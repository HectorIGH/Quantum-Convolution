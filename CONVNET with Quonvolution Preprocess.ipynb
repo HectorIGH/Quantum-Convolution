{
 "cells": [
  {
   "cell_type": "markdown",
   "metadata": {
    "heading_collapsed": true
   },
   "source": [
    "# Imports"
   ]
  },
  {
   "cell_type": "code",
   "execution_count": 1,
   "metadata": {
    "ExecuteTime": {
     "end_time": "2020-12-26T21:06:53.895141Z",
     "start_time": "2020-12-26T21:06:47.898944Z"
    },
    "hidden": true
   },
   "outputs": [],
   "source": [
    "from qiskit import ClassicalRegister, QuantumRegister, QuantumCircuit, Aer, execute, IBMQ\n",
    "from qiskit.tools.visualization import circuit_drawer\n",
    "from qiskit.tools.visualization import plot_histogram\n",
    "from qiskit.extensions.unitary import unitary\n",
    "from qiskit.tools.monitor import job_monitor\n",
    "from qiskit.compiler import transpile, assemble\n",
    "from qiskit.providers.aer import QasmSimulator\n",
    "S_simulator = Aer.backends(name = 'statevector_simulator')[0]\n",
    "M_simulator = Aer.backends(name = 'qasm_simulator')[0]\n",
    "\n",
    "backend = QasmSimulator(configuration = {'method' : 'density_matrix'})\n",
    "M_simulator = backend\n",
    "\n",
    "\n",
    "import numpy as np\n",
    "import matplotlib.pyplot as plt\n",
    "from scipy import signal\n",
    "from scipy import misc\n",
    "import cv2\n",
    "import os\n",
    "import time\n",
    "import sys\n",
    "from datetime import datetime\n",
    "import sklearn.metrics\n",
    "import itertools\n",
    "import io\n",
    "\n",
    "import tensorflow as tf\n",
    "from tensorflow import keras\n",
    "\n",
    "from tensorflow.keras.models import Sequential\n",
    "from tensorflow.keras.layers import BatchNormalization, Conv2D, MaxPooling2D, Activation, Flatten, Dropout, Dense, Lambda\n",
    "from tensorflow.keras.optimizers import Adam\n",
    "from tensorflow.keras.losses import categorical_crossentropy\n",
    "from tensorflow.keras.utils import to_categorical\n",
    "from tensorflow.keras.datasets import mnist\n",
    "\n",
    "%matplotlib inline"
   ]
  },
  {
   "cell_type": "markdown",
   "metadata": {
    "heading_collapsed": true
   },
   "source": [
    "# Auxiliar Functions"
   ]
  },
  {
   "cell_type": "code",
   "execution_count": 2,
   "metadata": {
    "ExecuteTime": {
     "end_time": "2020-12-26T21:06:53.899767Z",
     "start_time": "2020-12-26T21:06:53.896767Z"
    },
    "hidden": true
   },
   "outputs": [],
   "source": [
    "def draw(qc):\n",
    "    return circuit_drawer(qc, scale = 1, cregbundle  = False, output = 'mpl', fold = 24, initial_state = True)\n",
    "def hist(readout):\n",
    "    return plot_histogram(readout)"
   ]
  },
  {
   "cell_type": "code",
   "execution_count": 3,
   "metadata": {
    "ExecuteTime": {
     "end_time": "2020-12-26T21:06:53.915717Z",
     "start_time": "2020-12-26T21:06:53.901760Z"
    },
    "hidden": true
   },
   "outputs": [],
   "source": [
    "def convolution(FOCUS, FILTER, shots = 8192):\n",
    "    '''\n",
    "    FOCUS = [[F00, F01],\n",
    "             [F10, F11]]\n",
    "    FILTER = [[FI00, FI01],\n",
    "              [FI10, FI11]]\n",
    "    '''\n",
    "    q = QuantumRegister(4, name = 'q_r')\n",
    "    a = QuantumRegister(1, name = 'a_r')\n",
    "    c = ClassicalRegister(1, name = 'c_r')\n",
    "    qc = QuantumCircuit(q, a, c, name = 'q_circ')\n",
    "\n",
    "    qc.h(q)\n",
    "\n",
    "    qc.u3(FOCUS[0, 0] * FILTER[0, 0], FOCUS[0, 0] * FILTER[0, 1], FOCUS[0, 0] * FILTER[1, 0], q[0])\n",
    "\n",
    "    qc.u3(FOCUS[0, 1] * FILTER[0, 0], FOCUS[0, 1] * FILTER[0, 1], FOCUS[0, 1] * FILTER[1, 0], q[1])\n",
    "\n",
    "    qc.u3(FOCUS[1, 0] * FILTER[0, 0], FOCUS[1, 0] * FILTER[0, 1], FOCUS[1, 0] * FILTER[1, 0], q[2])\n",
    "\n",
    "    qc.u3(FOCUS[1, 1] * FILTER[0, 0], FOCUS[1, 1] * FILTER[0, 1], FOCUS[1, 1] * FILTER[1, 0], q[3])\n",
    "    \n",
    "    qc.h(q)\n",
    "\n",
    "    qc.mct(q, a, None, mode = 'noancilla')\n",
    "\n",
    "    qc.measure(a[0], c)\n",
    "\n",
    "    #transpiled_circuit = transpile(qc, M_simulator, optimization_level = 1)\n",
    "    #job = M_simulator.run(assemble(transpiled_circuit, shots = shots))\n",
    "    job = execute(qc, M_simulator, shots = shots, optimization_level = 1)\n",
    "    results = job.result()\n",
    "\n",
    "    readout = results.get_counts()\n",
    "    convolution = (readout.get('1', 0) / shots) * FILTER[1, 1]\n",
    "    return convolution, readout, qc"
   ]
  },
  {
   "cell_type": "code",
   "execution_count": 4,
   "metadata": {
    "ExecuteTime": {
     "end_time": "2020-12-26T21:06:53.926686Z",
     "start_time": "2020-12-26T21:06:53.916713Z"
    },
    "hidden": true
   },
   "outputs": [],
   "source": [
    "def Qonv2D(filters = 1, kernel_size = (2, 2), stride = (1, 1), image = None):\n",
    "    np.random.seed(465)\n",
    "    N_FILTERS = filters\n",
    "    KERNEL = kernel_size\n",
    "    STRIDE = stride\n",
    "    FILTERS = np.random.random(size = (N_FILTERS, KERNEL[0], KERNEL[1])) * np.pi\n",
    "    CONV_SHAPE = ((image.shape[0] - KERNEL[0]) // STRIDE[0] + 1, (image.shape[0] - KERNEL[0]) // STRIDE[1] + 1, N_FILTERS)\n",
    "    '''\n",
    "    CONV_SHAPE = ((image.shape[0] - KERNEL[0]) // STRIDE[0] + 1, (image.shape[0] - KERNEL[0]) // STRIDE[1] + 1)\n",
    "    CONV_OUTPUT = [] # shape = (Filters, CONV_IMAGE.shape)\n",
    "    for FILTER in FILTERS:\n",
    "        CONV_IMAGE = [] # shape = (((image.shape[0] - KERNEL[0]) // STRIDE[0] + 1, (image.shape[0] - KERNEL[0]) // STRIDE[1] + 1))\n",
    "        for row in range(0, image.shape[0] - KERNEL[0] + 1, STRIDE[0]):\n",
    "            for col in range(0, image.shape[1] - KERNEL[1] + 1, STRIDE[1]):\n",
    "                focus = image[row : row + KERNEL[0], col : col + KERNEL[1]]\n",
    "                convol = convolution(focus, FILTER, shots = 100)\n",
    "                CONV_IMAGE.append(convol[0])\n",
    "        CONV_OUTPUT.append(np.array(CONV_IMAGE).reshape(CONV_SHAPE))'''\n",
    "    CONV_IMAGE = [[] for _ in range(N_FILTERS)] # shape = (((image.shape[0] - KERNEL[0]) // STRIDE + 1, (image.shape[0] - KERNEL[0]) // STRIDE + 1))\n",
    "    for row in range(0, image.shape[0] - KERNEL[0] + 1, STRIDE[0]):\n",
    "        for col in range(0, image.shape[1] - KERNEL[1] + 1, STRIDE[1]):\n",
    "            for index, FILTER in enumerate(FILTERS):\n",
    "                focus = image[row : row + KERNEL[0], col : col + KERNEL[1]]\n",
    "                convol = convolution(focus, FILTER, shots = 100)\n",
    "                CONV_IMAGE[index].append(convol[0])\n",
    "    CONV_OUTPUT = np.stack(CONV_IMAGE, axis = -1)\n",
    "    CONV_OUTPUT = CONV_OUTPUT.reshape(CONV_SHAPE)\n",
    "    return CONV_OUTPUT"
   ]
  },
  {
   "cell_type": "code",
   "execution_count": 5,
   "metadata": {
    "ExecuteTime": {
     "end_time": "2020-12-26T21:06:53.935663Z",
     "start_time": "2020-12-26T21:06:53.927684Z"
    },
    "hidden": true
   },
   "outputs": [],
   "source": [
    "def qonv2D(FILTERS = None, kernel_size = (2, 2), stride = (1, 1), image = None):\n",
    "    KERNEL = kernel_size\n",
    "    STRIDE = stride\n",
    "    N_FILTERS = FILTERS.shape[0]\n",
    "    CONV_SHAPE = ((image.shape[0] - KERNEL[0]) // STRIDE[0] + 1, (image.shape[0] - KERNEL[0]) // STRIDE[1] + 1, N_FILTERS)\n",
    "    \n",
    "    CONV_IMAGE = [[] for _ in range(N_FILTERS)]\n",
    "    for row in range(0, image.shape[0] - KERNEL[0] + 1, STRIDE[0]):\n",
    "        for col in range(0, image.shape[1] - KERNEL[1] + 1, STRIDE[1]):\n",
    "            for index, FILTER in enumerate(FILTERS):\n",
    "                focus = image[row : row + KERNEL[0], col : col + KERNEL[1]]\n",
    "                convol = convolution(focus, FILTER, shots = 100)\n",
    "                CONV_IMAGE[index].append(convol[0])\n",
    "    CONV_OUTPUT = np.stack(CONV_IMAGE, axis = -1)\n",
    "    CONV_OUTPUT = CONV_OUTPUT.reshape(CONV_SHAPE)\n",
    "    return CONV_OUTPUT"
   ]
  },
  {
   "cell_type": "code",
   "execution_count": 6,
   "metadata": {
    "ExecuteTime": {
     "end_time": "2020-12-26T21:06:53.944639Z",
     "start_time": "2020-12-26T21:06:53.936660Z"
    },
    "hidden": true
   },
   "outputs": [],
   "source": [
    "def conv_sample(c_images, q_images, samples = 4, channels = 4):\n",
    "    n_samples = 4\n",
    "    n_channels = 4\n",
    "    fig, axes = plt.subplots(1 + channels, samples, figsize=(10, 10))\n",
    "    for k in range(samples):\n",
    "        axes[0, 0].set_ylabel(\"Input image\")\n",
    "        if k != 0:\n",
    "            axes[0, k].yaxis.set_visible(False)\n",
    "        axes[0, k].imshow(c_images[k, :, :, 0], cmap=\"gray\")\n",
    "\n",
    "        # Plot all output channels\n",
    "        for c in range(channels):\n",
    "            axes[c + 1, 0].set_ylabel(\"Output [ch. {}]\".format(c))\n",
    "            if k != 0:\n",
    "                axes[c, k].yaxis.set_visible(False)\n",
    "            axes[c + 1, k].imshow(q_images[k, :, :, c], cmap=\"gray\")\n",
    "\n",
    "    plt.tight_layout()\n",
    "    return plt.show()"
   ]
  },
  {
   "cell_type": "code",
   "execution_count": 7,
   "metadata": {
    "ExecuteTime": {
     "end_time": "2020-12-26T21:06:53.959599Z",
     "start_time": "2020-12-26T21:06:53.945636Z"
    },
    "hidden": true
   },
   "outputs": [],
   "source": [
    "def plot_confusion_matrix(cm, class_names):\n",
    "  \"\"\"\n",
    "  Returns a matplotlib figure containing the plotted confusion matrix.\n",
    "\n",
    "  Args:\n",
    "    cm (array, shape = [n, n]): a confusion matrix of integer classes\n",
    "    class_names (array, shape = [n]): String names of the integer classes\n",
    "  \"\"\"\n",
    "  figure = plt.figure(figsize=(8, 8))\n",
    "  plt.imshow(cm, interpolation='nearest', cmap=plt.cm.Blues)\n",
    "  plt.title(\"Confusion matrix\")\n",
    "  plt.colorbar()\n",
    "  tick_marks = np.arange(len(class_names))\n",
    "  plt.xticks(tick_marks, class_names, rotation=45)\n",
    "  plt.yticks(tick_marks, class_names)\n",
    "\n",
    "  # Compute the labels from the normalized confusion matrix.\n",
    "  labels = np.around(cm.astype('float') / cm.sum(axis=1)[:, np.newaxis], decimals=2)\n",
    "\n",
    "  # Use white text if squares are dark; otherwise black.\n",
    "  threshold = cm.max() / 2.\n",
    "  for i, j in itertools.product(range(cm.shape[0]), range(cm.shape[1])):\n",
    "    color = \"white\" if cm[i, j] > threshold else \"black\"\n",
    "    plt.text(j, i, labels[i, j], horizontalalignment=\"center\", color=color)\n",
    "\n",
    "  plt.tight_layout()\n",
    "  plt.ylabel('True label')\n",
    "  plt.xlabel('Predicted label')\n",
    "  return figure\n",
    "\n",
    "def plot_to_image(figure):\n",
    "    \"\"\"Converts the matplotlib plot specified by 'figure' to a PNG image and\n",
    "    returns it. The supplied figure is closed and inaccessible after this call.\"\"\"\n",
    "    # Save the plot to a PNG in memory.\n",
    "    buf = io.BytesIO()\n",
    "    plt.savefig(buf, format='png')\n",
    "    # Closing the figure prevents it from being displayed directly inside\n",
    "    # the notebook.\n",
    "    plt.close(figure)\n",
    "    buf.seek(0)\n",
    "    # Convert PNG buffer to TF image\n",
    "    image = tf.image.decode_png(buf.getvalue(), channels=4)\n",
    "    # Add the batch dimension\n",
    "    image = tf.expand_dims(image, 0)\n",
    "    return image\n",
    "\n",
    "def clog_confusion_matrix(epoch, logs):\n",
    "    # Use the model to predict the values from the validation dataset.\n",
    "    test_pred_raw = classical_model.predict(X_test)\n",
    "    test_pred = np.argmax(test_pred_raw, axis=1)\n",
    "\n",
    "    # Calculate the confusion matrix.\n",
    "    cm = sklearn.metrics.confusion_matrix(np.argmax(Y_test, axis=1), test_pred)\n",
    "    # Log the confusion matrix as an image summary.\n",
    "    figure = plot_confusion_matrix(cm, class_names = list(range(10)))\n",
    "    cm_image = plot_to_image(figure)\n",
    "\n",
    "    # Log the confusion matrix as an image summary.\n",
    "    with classical_file_writer_cm.as_default():\n",
    "        tf.summary.image(\"Classic Confusion Matrix\", cm_image, step=epoch)\n",
    "        \n",
    "def qlog_confusion_matrix(epoch, logs):\n",
    "    # Use the model to predict the values from the validation dataset.\n",
    "    test_pred_raw = quantum_model.predict(Q_test_images)\n",
    "    test_pred = np.argmax(test_pred_raw, axis = 1)\n",
    "\n",
    "    # Calculate the confusion matrix.\n",
    "    cm = sklearn.metrics.confusion_matrix(np.argmax(Y_test, axis=1), test_pred)\n",
    "    # Log the confusion matrix as an image summary.\n",
    "    figure = plot_confusion_matrix(cm, class_names = list(range(10)))\n",
    "    cm_image = plot_to_image(figure)\n",
    "\n",
    "    # Log the confusion matrix as an image summary.\n",
    "    with quantum_file_writer_cm.as_default():\n",
    "        tf.summary.image(\"Quantum Confusion Matrix\", cm_image, step=epoch)"
   ]
  },
  {
   "cell_type": "markdown",
   "metadata": {
    "heading_collapsed": true
   },
   "source": [
    "# Hyperparameters and loading original MNIST Dataset"
   ]
  },
  {
   "cell_type": "code",
   "execution_count": 8,
   "metadata": {
    "ExecuteTime": {
     "end_time": "2020-12-26T21:06:57.399424Z",
     "start_time": "2020-12-26T21:06:57.392428Z"
    },
    "hidden": true
   },
   "outputs": [
    {
     "name": "stdout",
     "output_type": "stream",
     "text": [
      "C:\\Users\\jeff_\\Dropbox\\Jupyter Notebooks\\Quantum\\Qonvolution\\Dataset\n"
     ]
    }
   ],
   "source": [
    "# Defining hyperparameters\n",
    "EPOCH = 30\n",
    "train_size = 1000\n",
    "test_size = 200\n",
    "BATCH_SIZE = 10\n",
    "\n",
    "DATASET_PATH = os.path.sep.join([os.getcwd(), \"Dataset\"])\n",
    "print(DATASET_PATH)\n",
    "\n",
    "np.random.seed(100)\n",
    "tf.random.set_seed(200)"
   ]
  },
  {
   "cell_type": "code",
   "execution_count": 9,
   "metadata": {
    "ExecuteTime": {
     "end_time": "2020-12-26T21:06:58.326099Z",
     "start_time": "2020-12-26T21:06:57.882319Z"
    },
    "hidden": true
   },
   "outputs": [],
   "source": [
    "# Loading MNIST\n",
    "((x_train, y_train), (x_test, y_test)) = mnist.load_data()\n",
    "\n",
    "# Adding a channel dimension and scaling\n",
    "x_train = np.expand_dims(x_train, axis = -1)\n",
    "x_test = np.expand_dims(x_test, axis = -1)\n",
    "x_train = x_train.astype(\"float32\") / 255.0\n",
    "x_test = x_test.astype(\"float32\") / 255.0\n",
    "\n",
    "# One-hot encoding\n",
    "y_train = to_categorical(y_train, 10)\n",
    "y_test = to_categorical(y_test, 10)"
   ]
  },
  {
   "cell_type": "markdown",
   "metadata": {
    "heading_collapsed": true
   },
   "source": [
    "# Image Quantum Preprocessing"
   ]
  },
  {
   "cell_type": "code",
   "execution_count": 10,
   "metadata": {
    "ExecuteTime": {
     "end_time": "2020-12-26T21:07:02.015494Z",
     "start_time": "2020-12-26T21:07:02.012491Z"
    },
    "hidden": true
   },
   "outputs": [],
   "source": [
    "X_train = x_train[:train_size]\n",
    "X_test = x_test[:test_size]\n",
    "Y_train = y_train[:train_size]\n",
    "Y_test = y_test[:test_size]"
   ]
  },
  {
   "cell_type": "code",
   "execution_count": 8,
   "metadata": {
    "ExecuteTime": {
     "end_time": "2020-12-26T21:03:28.896637Z",
     "start_time": "2020-12-26T21:03:28.890018Z"
    },
    "hidden": true
   },
   "outputs": [],
   "source": [
    "# Setting random filters\n",
    "np.random.seed(1918)\n",
    "FILTERS = np.random.random(size = (4, 2, 2)) * np.pi"
   ]
  },
  {
   "cell_type": "code",
   "execution_count": 9,
   "metadata": {
    "ExecuteTime": {
     "end_time": "2020-12-26T21:03:29.386894Z",
     "start_time": "2020-12-26T21:03:29.380910Z"
    },
    "hidden": true
   },
   "outputs": [
    {
     "data": {
      "text/plain": [
       "array([[[0.59104061, 0.7498608 ],\n",
       "        [2.92344813, 0.10024845]],\n",
       "\n",
       "       [[1.31817723, 0.33983809],\n",
       "        [2.21768245, 0.02631693]],\n",
       "\n",
       "       [[2.39360192, 2.7985645 ],\n",
       "        [0.02755075, 0.64261417]],\n",
       "\n",
       "       [[2.84046874, 2.33452561],\n",
       "        [0.07662386, 2.27291504]]])"
      ]
     },
     "execution_count": 9,
     "metadata": {},
     "output_type": "execute_result"
    }
   ],
   "source": [
    "FILTERS"
   ]
  },
  {
   "cell_type": "markdown",
   "metadata": {
    "ExecuteTime": {
     "end_time": "2020-12-26T18:51:12.654670Z",
     "start_time": "2020-12-26T18:51:12.647689Z"
    },
    "heading_collapsed": true,
    "hidden": true
   },
   "source": [
    "### Quantum Pre-process\n",
    "\n",
    "Run it if you want to generate Qonvolutions, otherwise load the .npy files with Qonvolutions already saved in."
   ]
  },
  {
   "cell_type": "code",
   "execution_count": 21,
   "metadata": {
    "ExecuteTime": {
     "end_time": "2020-12-25T04:02:04.354400Z",
     "start_time": "2020-12-25T00:54:27.904525Z"
    },
    "hidden": true
   },
   "outputs": [
    {
     "name": "stdout",
     "output_type": "stream",
     "text": [
      "\n",
      "[INFO] Quantum processing of train images...\n",
      "Process 100% : ===================================================================================================================================================================================================================================================================================================================================================================================================================================================================================================================> Processed 1000 train images in 156.9 minutes\n",
      "[INFO] Quantum processing of train images...\n",
      "Process 100% : ===================================================================================================> Processed 1000 train images in 30.66 minutes"
     ]
    }
   ],
   "source": [
    "Q_train_images = []\n",
    "\n",
    "print(\"\\n[INFO] Quantum processing of train images...\")\n",
    "preprocessStart = time.time()\n",
    "for idx, img in enumerate(X_train):\n",
    "    sys.stdout.write('\\rProcess {:02d}% : {}{}'.format((idx * 100) // train_size, '=' * (idx // 2), '>'))\n",
    "    Q_train_images.append(qonv2D(FILTERS = FILTERS, kernel_size = (2, 2), stride = (1, 1), image = img))\n",
    "sys.stdout.flush()\n",
    "preprocessEnd = time.time()\n",
    "elapsed = (preprocessEnd - preprocessStart) / 60.0\n",
    "sys.stdout.write('\\rProcess {:02d}% : {}{} Processed {} train images in {:.4} minutes'.format(100, '=' * (idx // 2), '>', len(X_train), elapsed))\n",
    "Q_train_images = np.asarray(Q_train_images)\n",
    "\n",
    "Q_test_images = []\n",
    "print(\"\\n[INFO] Quantum processing of train images...\")\n",
    "preprocessStart = time.time()\n",
    "for idx, img in enumerate(X_test):\n",
    "    sys.stdout.write('\\rProcess {:02d}% : {}{}'.format((idx * 100) // test_size, '=' * (idx // 2), '>'))\n",
    "    Q_test_images.append(qonv2D(FILTERS = FILTERS, kernel_size = (2, 2), stride = (1, 1), image = img))\n",
    "sys.stdout.flush()\n",
    "preprocessEnd = time.time()\n",
    "elapsed = (preprocessEnd - preprocessStart) / 60.0\n",
    "sys.stdout.write('\\rProcess {:02d}% : {}{} Processed {} train images in {:.4} minutes'.format(100, '=' * (idx // 2), '>', len(X_train), elapsed))\n",
    "Q_test_images = np.asarray(Q_test_images)\n",
    "\n",
    "# Save pre-processed images\n",
    "np.save(DATASET_PATH + \"Q_train_images.npy\", Q_train_images)\n",
    "np.save(DATASET_PATH + \"Q_test_images.npy\", Q_test_images)"
   ]
  },
  {
   "cell_type": "markdown",
   "metadata": {
    "heading_collapsed": true,
    "hidden": true
   },
   "source": [
    "### Loading Qonvoluted Pre-processed images"
   ]
  },
  {
   "cell_type": "code",
   "execution_count": 11,
   "metadata": {
    "ExecuteTime": {
     "end_time": "2020-12-26T21:07:07.230081Z",
     "start_time": "2020-12-26T21:07:07.214077Z"
    },
    "hidden": true
   },
   "outputs": [],
   "source": [
    "# Load pre-processed images\n",
    "Q_train_images = np.load(os.path.sep.join([DATASET_PATH, \"q_train_images.npy\"]))\n",
    "Q_test_images = np.load(os.path.sep.join([DATASET_PATH, \"q_test_images.npy\"]))"
   ]
  },
  {
   "cell_type": "code",
   "execution_count": 12,
   "metadata": {
    "ExecuteTime": {
     "end_time": "2020-12-26T21:07:07.752798Z",
     "start_time": "2020-12-26T21:07:07.747850Z"
    },
    "hidden": true
   },
   "outputs": [
    {
     "name": "stdout",
     "output_type": "stream",
     "text": [
      "Qonvoluted training images shape (#Images, height, width, channels): (1000, 27, 27, 4)\n",
      "Qonvoluted testing images shape (#Images, height, width, channels): (200, 27, 27, 4)\n"
     ]
    }
   ],
   "source": [
    "print(f'Qonvoluted training images shape (#Images, height, width, channels): {Q_train_images.shape}')\n",
    "print(f'Qonvoluted testing images shape (#Images, height, width, channels): {Q_test_images.shape}')"
   ]
  },
  {
   "cell_type": "code",
   "execution_count": 13,
   "metadata": {
    "ExecuteTime": {
     "end_time": "2020-12-26T21:07:09.755582Z",
     "start_time": "2020-12-26T21:07:08.539763Z"
    },
    "hidden": true
   },
   "outputs": [
    {
     "data": {
      "image/png": "[encoded data removed]",
      "text/plain": [
       "<Figure size 720x720 with 20 Axes>"
      ]
     },
     "metadata": {
      "needs_background": "light"
     },
     "output_type": "display_data"
    }
   ],
   "source": [
    "conv_sample(X_train, Q_train_images, samples = 4, channels = 4)"
   ]
  },
  {
   "cell_type": "markdown",
   "metadata": {
    "heading_collapsed": true,
    "hidden": true
   },
   "source": [
    "## Single convolution sample"
   ]
  },
  {
   "cell_type": "code",
   "execution_count": 27,
   "metadata": {
    "ExecuteTime": {
     "end_time": "2020-12-26T18:58:51.462290Z",
     "start_time": "2020-12-26T18:58:41.063522Z"
    },
    "hidden": true
   },
   "outputs": [],
   "source": [
    "CONV_OUTPUT = qonv2D(FILTERS, (2, 2), (1, 1), X_train[1])"
   ]
  },
  {
   "cell_type": "code",
   "execution_count": 28,
   "metadata": {
    "ExecuteTime": {
     "end_time": "2020-12-26T18:58:51.469255Z",
     "start_time": "2020-12-26T18:58:51.463265Z"
    },
    "hidden": true
   },
   "outputs": [
    {
     "data": {
      "text/plain": [
       "(27, 27, 4)"
      ]
     },
     "execution_count": 28,
     "metadata": {},
     "output_type": "execute_result"
    }
   ],
   "source": [
    "CONV_OUTPUT.shape"
   ]
  },
  {
   "cell_type": "code",
   "execution_count": 29,
   "metadata": {
    "ExecuteTime": {
     "end_time": "2020-12-26T18:58:51.930007Z",
     "start_time": "2020-12-26T18:58:51.471217Z"
    },
    "hidden": true
   },
   "outputs": [
    {
     "data": {
      "image/png": "[encoded data removed]",
      "text/plain": [
       "<Figure size 720x864 with 4 Axes>"
      ]
     },
     "metadata": {
      "needs_background": "light"
     },
     "output_type": "display_data"
    }
   ],
   "source": [
    "h, w = 10, 10        # for raster image\n",
    "nrows, ncols = 1, 4  # array of sub-plots\n",
    "figsize = [10, 12]     # figure size, inches\n",
    "\n",
    "# prep (x,y) for extra plotting on selected sub-plots\n",
    "\n",
    "# create figure (fig), and array of axes (ax)\n",
    "fig, ax = plt.subplots(nrows = nrows, ncols = ncols, figsize = figsize)\n",
    "\n",
    "# plot simple raster image on each sub-plot\n",
    "for i, axi in enumerate(ax.flat):\n",
    "    # i runs from 0 to (nrows*ncols-1)\n",
    "    # axi is equivalent with ax[rowid][colid]\n",
    "    axi.imshow(CONV_OUTPUT[:, :, i], cmap = 'gray')\n",
    "    # get indices of row/column\n",
    "    rowid = i // ncols\n",
    "    colid = i % ncols\n",
    "    # write row/col indices as axes' title for identification\n",
    "    axi.set_title(\"Row:\"+str(rowid)+\", Col:\"+str(colid))\n",
    "\n",
    "# one can access the axes by ax[row_id][col_id]\n",
    "# do additional plotting on ax[row_id][col_id] of your choice\n",
    "#ax[0][2].plot(xs, 3*ys, color='red', linewidth=3)\n",
    "#ax[4][3].plot(ys**2, xs, color='green', linewidth=3)\n",
    "\n",
    "plt.tight_layout(True)\n",
    "plt.show()"
   ]
  },
  {
   "cell_type": "markdown",
   "metadata": {
    "heading_collapsed": true
   },
   "source": [
    "# Models Design"
   ]
  },
  {
   "cell_type": "markdown",
   "metadata": {
    "hidden": true
   },
   "source": [
    "Models definition.\n",
    "A classical and hybrid convnet models are defined, compiled and fit. History data is shown afterwards.\n",
    "\n",
    "In the $hybrid$ model case, since the input are in essence the output of a convolution, the initial layers of the model\n",
    "are an Identity -> Activation -> BatchNormalization -> MaxPooling2D. The subsequent layers are in the traditional way.\n",
    "\n",
    "For the classical model a simple convnet is defined, imitating the structure of the hybrid model."
   ]
  },
  {
   "cell_type": "code",
   "execution_count": 31,
   "metadata": {
    "ExecuteTime": {
     "end_time": "2020-12-26T19:04:41.619184Z",
     "start_time": "2020-12-26T19:04:41.599232Z"
    },
    "hidden": true
   },
   "outputs": [],
   "source": [
    "def HybridModel(width, height, depth, classes):\n",
    "    input_shape = (height, width, depth)\n",
    "    chanDim = -1\n",
    "    \n",
    "    model = Sequential(name = 'Quantum_model')\n",
    "    model.add(Lambda(lambda x : x, output_shape = input_shape, input_shape = input_shape))\n",
    "    #model.add(Conv2D(filters = 4, kernel_size = (2, 2), strides = (2, 2), input_shape = input_shape))\n",
    "    model.add(Activation(tf.nn.relu))\n",
    "    model.add(BatchNormalization(axis = chanDim))\n",
    "    model.add(MaxPooling2D(pool_size = (2, 2)))\n",
    "    \n",
    "    model.add(Conv2D(filters = 32, kernel_size = (3, 3)))\n",
    "    model.add(Activation(tf.nn.relu))\n",
    "    model.add(BatchNormalization(axis = chanDim))\n",
    "    model.add(MaxPooling2D(pool_size = (2, 2)))\n",
    "    \n",
    "    model.add(Conv2D(filters = 64, kernel_size = (3, 3), padding = \"same\"))\n",
    "    model.add(Activation(tf.nn.relu))\n",
    "    model.add(BatchNormalization(axis = chanDim))\n",
    "    model.add(MaxPooling2D(pool_size = (2, 2)))\n",
    "    \n",
    "    model.add(Flatten())\n",
    "    #model.add(Dense(units = 10))\n",
    "    #model.add(Activation(tf.nn.relu))\n",
    "    #model.add(BatchNormalization())\n",
    "    model.add(Dropout(0.5))\n",
    "    \n",
    "    model.add(Dense(units = classes))\n",
    "    model.add(Activation(tf.nn.softmax))\n",
    "    \n",
    "    return model\n",
    "\n",
    "def ClassicModel(width, height, depth, classes):\n",
    "    input_shape = (height, width, depth)\n",
    "    chanDim = -1\n",
    "    \n",
    "    model = Sequential(name = 'Classical_Convenet_model')\n",
    "    model.add(Conv2D(filters = 4, kernel_size = (2, 2), strides = (1, 1), input_shape = input_shape))\n",
    "    model.add(Activation(tf.nn.relu))\n",
    "    model.add(BatchNormalization(axis = chanDim))\n",
    "    model.add(MaxPooling2D(pool_size = (2, 2)))\n",
    "    \n",
    "    model.add(Conv2D(filters = 32, kernel_size = (3, 3)))\n",
    "    model.add(Activation(tf.nn.relu))\n",
    "    model.add(BatchNormalization(axis = chanDim))\n",
    "    model.add(MaxPooling2D(pool_size = (2, 2)))\n",
    "    \n",
    "    model.add(Conv2D(filters = 64, kernel_size = (3, 3), padding = \"same\"))\n",
    "    model.add(Activation(tf.nn.relu))\n",
    "    model.add(BatchNormalization(axis = chanDim))\n",
    "    model.add(MaxPooling2D(pool_size = (2, 2)))\n",
    "    \n",
    "    model.add(Flatten())\n",
    "    #model.add(Dense(units = 10))\n",
    "    #model.add(Activation(tf.nn.relu))\n",
    "    #model.add(BatchNormalization())\n",
    "    model.add(Dropout(0.5))\n",
    "    \n",
    "    model.add(Dense(units = classes))\n",
    "    model.add(Activation(tf.nn.softmax))\n",
    "    \n",
    "    return model"
   ]
  },
  {
   "cell_type": "code",
   "execution_count": 32,
   "metadata": {
    "ExecuteTime": {
     "end_time": "2020-12-26T19:04:47.335496Z",
     "start_time": "2020-12-26T19:04:46.039712Z"
    },
    "hidden": true
   },
   "outputs": [],
   "source": [
    "# Model recieves as parameters the shape of the Quantum convolution output size,\n",
    "# which is ((image.shape[0] - KERNEL[0]) // STRIDE[0] + 1, (image.shape[0] - KERNEL[0]) // STRIDE[1] + 1, N_FILTERS)\n",
    "# and a final parameters which is the number of classes in the dataset.\n",
    "quantum_model = HybridModel(27, 27, 4, 10)\n",
    "\n",
    "classical_model = ClassicModel(28, 28, 1, 10)"
   ]
  },
  {
   "cell_type": "code",
   "execution_count": 33,
   "metadata": {
    "ExecuteTime": {
     "end_time": "2020-12-26T19:04:47.360347Z",
     "start_time": "2020-12-26T19:04:47.340455Z"
    },
    "hidden": true
   },
   "outputs": [
    {
     "name": "stdout",
     "output_type": "stream",
     "text": [
      "Model: \"Quantum_model\"\n",
      "_________________________________________________________________\n",
      "Layer (type)                 Output Shape              Param #   \n",
      "=================================================================\n",
      "lambda (Lambda)              (None, 27, 27, 4)         0         \n",
      "_________________________________________________________________\n",
      "activation (Activation)      (None, 27, 27, 4)         0         \n",
      "_________________________________________________________________\n",
      "batch_normalization (BatchNo (None, 27, 27, 4)         16        \n",
      "_________________________________________________________________\n",
      "max_pooling2d (MaxPooling2D) (None, 13, 13, 4)         0         \n",
      "_________________________________________________________________\n",
      "conv2d (Conv2D)              (None, 11, 11, 32)        1184      \n",
      "_________________________________________________________________\n",
      "activation_1 (Activation)    (None, 11, 11, 32)        0         \n",
      "_________________________________________________________________\n",
      "batch_normalization_1 (Batch (None, 11, 11, 32)        128       \n",
      "_________________________________________________________________\n",
      "max_pooling2d_1 (MaxPooling2 (None, 5, 5, 32)          0         \n",
      "_________________________________________________________________\n",
      "conv2d_1 (Conv2D)            (None, 5, 5, 64)          18496     \n",
      "_________________________________________________________________\n",
      "activation_2 (Activation)    (None, 5, 5, 64)          0         \n",
      "_________________________________________________________________\n",
      "batch_normalization_2 (Batch (None, 5, 5, 64)          256       \n",
      "_________________________________________________________________\n",
      "max_pooling2d_2 (MaxPooling2 (None, 2, 2, 64)          0         \n",
      "_________________________________________________________________\n",
      "flatten (Flatten)            (None, 256)               0         \n",
      "_________________________________________________________________\n",
      "dropout (Dropout)            (None, 256)               0         \n",
      "_________________________________________________________________\n",
      "dense (Dense)                (None, 10)                2570      \n",
      "_________________________________________________________________\n",
      "activation_3 (Activation)    (None, 10)                0         \n",
      "=================================================================\n",
      "Total params: 22,650\n",
      "Trainable params: 22,450\n",
      "Non-trainable params: 200\n",
      "_________________________________________________________________\n"
     ]
    }
   ],
   "source": [
    "quantum_model.summary()"
   ]
  },
  {
   "cell_type": "code",
   "execution_count": 34,
   "metadata": {
    "ExecuteTime": {
     "end_time": "2020-12-26T19:04:48.410517Z",
     "start_time": "2020-12-26T19:04:48.398662Z"
    },
    "hidden": true
   },
   "outputs": [
    {
     "name": "stdout",
     "output_type": "stream",
     "text": [
      "Model: \"Classical_Convenet_model\"\n",
      "_________________________________________________________________\n",
      "Layer (type)                 Output Shape              Param #   \n",
      "=================================================================\n",
      "conv2d_2 (Conv2D)            (None, 27, 27, 4)         20        \n",
      "_________________________________________________________________\n",
      "activation_4 (Activation)    (None, 27, 27, 4)         0         \n",
      "_________________________________________________________________\n",
      "batch_normalization_3 (Batch (None, 27, 27, 4)         16        \n",
      "_________________________________________________________________\n",
      "max_pooling2d_3 (MaxPooling2 (None, 13, 13, 4)         0         \n",
      "_________________________________________________________________\n",
      "conv2d_3 (Conv2D)            (None, 11, 11, 32)        1184      \n",
      "_________________________________________________________________\n",
      "activation_5 (Activation)    (None, 11, 11, 32)        0         \n",
      "_________________________________________________________________\n",
      "batch_normalization_4 (Batch (None, 11, 11, 32)        128       \n",
      "_________________________________________________________________\n",
      "max_pooling2d_4 (MaxPooling2 (None, 5, 5, 32)          0         \n",
      "_________________________________________________________________\n",
      "conv2d_4 (Conv2D)            (None, 5, 5, 64)          18496     \n",
      "_________________________________________________________________\n",
      "activation_6 (Activation)    (None, 5, 5, 64)          0         \n",
      "_________________________________________________________________\n",
      "batch_normalization_5 (Batch (None, 5, 5, 64)          256       \n",
      "_________________________________________________________________\n",
      "max_pooling2d_5 (MaxPooling2 (None, 2, 2, 64)          0         \n",
      "_________________________________________________________________\n",
      "flatten_1 (Flatten)          (None, 256)               0         \n",
      "_________________________________________________________________\n",
      "dropout_1 (Dropout)          (None, 256)               0         \n",
      "_________________________________________________________________\n",
      "dense_1 (Dense)              (None, 10)                2570      \n",
      "_________________________________________________________________\n",
      "activation_7 (Activation)    (None, 10)                0         \n",
      "=================================================================\n",
      "Total params: 22,670\n",
      "Trainable params: 22,470\n",
      "Non-trainable params: 200\n",
      "_________________________________________________________________\n"
     ]
    }
   ],
   "source": [
    "classical_model.summary()"
   ]
  },
  {
   "cell_type": "markdown",
   "metadata": {
    "heading_collapsed": true
   },
   "source": [
    "# Training models"
   ]
  },
  {
   "cell_type": "markdown",
   "metadata": {
    "hidden": true
   },
   "source": [
    "* Definition of some file directories for Tensorboard log files.\n",
    "* Also setting the optimizer and the loss.\n",
    "* Setting the callbacks for Tensorboard and the Confusion Matrix."
   ]
  },
  {
   "cell_type": "code",
   "execution_count": 35,
   "metadata": {
    "ExecuteTime": {
     "end_time": "2020-12-26T19:09:06.714182Z",
     "start_time": "2020-12-26T19:09:06.664315Z"
    },
    "hidden": true
   },
   "outputs": [],
   "source": [
    "classical_logdir = \"logs/ctrain_data/\" + datetime.now().strftime(\"%Y%m%d-%H%M%S\")\n",
    "quantum_logdir = \"logs/qtrain_data/\" + datetime.now().strftime(\"%Y%m%d-%H%M%S\")\n",
    "\n",
    "\n",
    "# Defining Keras object to optimze and callbacks\n",
    "loss_object = tf.keras.losses.CategoricalCrossentropy(from_logits = False)\n",
    "optimizer = tf.keras.optimizers.Adam()\n",
    "TBCallback = tf.keras.callbacks.TensorBoard(\n",
    "                                            log_dir = classical_logdir,\n",
    "                                            histogram_freq = 0,\n",
    "                                            write_graph = True,\n",
    "                                            write_images = True,\n",
    "                                            update_freq = 'epoch',\n",
    "                                            profile_batch = (2, 10))\n",
    "CTBCallback = tf.keras.callbacks.TensorBoard(\n",
    "                                            log_dir = quantum_logdir,\n",
    "                                            histogram_freq = 0,\n",
    "                                            write_graph = True,\n",
    "                                            write_images = True,\n",
    "                                            update_freq = 'epoch',\n",
    "                                            profile_batch = (2, 10))\n",
    "\n",
    "\n",
    "# Define the per-epoch callback.\n",
    "classical_cm_callback = keras.callbacks.LambdaCallback(on_epoch_end = clog_confusion_matrix)\n",
    "quantum_cm_callback = keras.callbacks.LambdaCallback(on_epoch_end = qlog_confusion_matrix)"
   ]
  },
  {
   "cell_type": "markdown",
   "metadata": {
    "hidden": true
   },
   "source": [
    "* Setting the file writers for the Tensorboard files\n",
    "* Setting the file writers for the Confusion Matrix"
   ]
  },
  {
   "cell_type": "code",
   "execution_count": 36,
   "metadata": {
    "ExecuteTime": {
     "end_time": "2020-12-26T19:14:15.579834Z",
     "start_time": "2020-12-26T19:14:15.554901Z"
    },
    "hidden": true
   },
   "outputs": [],
   "source": [
    "classical_file_writer = tf.summary.create_file_writer(classical_logdir)\n",
    "\n",
    "quantum_file_writer = tf.summary.create_file_writer(quantum_logdir)\n",
    "\n",
    "classical_file_writer_cm = tf.summary.create_file_writer(classical_logdir + '/cm')\n",
    "\n",
    "quantum_file_writer_cm = tf.summary.create_file_writer(quantum_logdir + '/cm')"
   ]
  },
  {
   "cell_type": "markdown",
   "metadata": {
    "hidden": true
   },
   "source": [
    "Saving some quantum and classical training samples for Tensorboard visualization."
   ]
  },
  {
   "cell_type": "code",
   "execution_count": 37,
   "metadata": {
    "ExecuteTime": {
     "end_time": "2020-12-26T19:16:13.236301Z",
     "start_time": "2020-12-26T19:16:13.172496Z"
    },
    "hidden": true
   },
   "outputs": [],
   "source": [
    "classical_samples = 25\n",
    "quantum_samples = 25\n",
    "with classical_file_writer.as_default():\n",
    "  # Don't forget to reshape.\n",
    "  images = np.reshape(X_train[0:classical_samples], (-1, 28, 28, 1))\n",
    "  tf.summary.image(f\"{classical_samples} classical training data examples\", images, max_outputs=25, step=0)\n",
    "\n",
    "with quantum_file_writer.as_default():\n",
    "  # Don't forget to reshape.\n",
    "  images = Q_train_images[0:quantum_samples,...]\n",
    "  tf.summary.image(f\"{quantum_samples} quantum training data examples\", images, max_outputs=25, step=0)"
   ]
  },
  {
   "cell_type": "markdown",
   "metadata": {
    "hidden": true
   },
   "source": [
    "Compiling models"
   ]
  },
  {
   "cell_type": "code",
   "execution_count": 45,
   "metadata": {
    "ExecuteTime": {
     "end_time": "2020-12-26T19:46:17.340503Z",
     "start_time": "2020-12-26T19:46:17.324583Z"
    },
    "hidden": true
   },
   "outputs": [],
   "source": [
    "quantum_model.compile(\n",
    "            optimizer = optimizer,\n",
    "            loss = loss_object,\n",
    "            metrics = ['acc'])\n",
    "classical_model.compile(\n",
    "                        optimizer = optimizer,\n",
    "                        loss = loss_object,\n",
    "                        metrics = ['acc'])"
   ]
  },
  {
   "cell_type": "markdown",
   "metadata": {
    "hidden": true
   },
   "source": [
    "Fitting quantum model"
   ]
  },
  {
   "cell_type": "code",
   "execution_count": 46,
   "metadata": {
    "ExecuteTime": {
     "end_time": "2020-12-26T19:46:49.565648Z",
     "start_time": "2020-12-26T19:46:18.745471Z"
    },
    "hidden": true
   },
   "outputs": [
    {
     "name": "stdout",
     "output_type": "stream",
     "text": [
      "Epoch 1/30\n",
      "  1/100 [..............................] - ETA: 0s - loss: 0.0046 - acc: 1.0000WARNING:tensorflow:Callbacks method `on_train_batch_begin` is slow compared to the batch time (batch time: 0.0070s vs `on_train_batch_begin` time: 0.0142s). Check your callbacks.\n",
      "100/100 [==============================] - 1s 12ms/step - loss: 0.0188 - acc: 0.9940 - val_loss: 0.3935 - val_acc: 0.8900\n",
      "Epoch 2/30\n",
      "100/100 [==============================] - 1s 12ms/step - loss: 0.0148 - acc: 0.9950 - val_loss: 0.3822 - val_acc: 0.9000\n",
      "Epoch 3/30\n",
      "100/100 [==============================] - 1s 10ms/step - loss: 0.0159 - acc: 0.9950 - val_loss: 0.3679 - val_acc: 0.9200\n",
      "Epoch 4/30\n",
      "100/100 [==============================] - 1s 10ms/step - loss: 0.0183 - acc: 0.9950 - val_loss: 0.3965 - val_acc: 0.9150\n",
      "Epoch 5/30\n",
      "100/100 [==============================] - 1s 10ms/step - loss: 0.0114 - acc: 0.9960 - val_loss: 0.4181 - val_acc: 0.8950\n",
      "Epoch 6/30\n",
      "100/100 [==============================] - 1s 10ms/step - loss: 0.0149 - acc: 0.9950 - val_loss: 0.3903 - val_acc: 0.8750\n",
      "Epoch 7/30\n",
      "100/100 [==============================] - 1s 11ms/step - loss: 0.0113 - acc: 0.9960 - val_loss: 0.3805 - val_acc: 0.9050\n",
      "Epoch 8/30\n",
      "100/100 [==============================] - 1s 10ms/step - loss: 0.0078 - acc: 0.9980 - val_loss: 0.3926 - val_acc: 0.9050\n",
      "Epoch 9/30\n",
      "100/100 [==============================] - 1s 10ms/step - loss: 0.0108 - acc: 0.9980 - val_loss: 0.3710 - val_acc: 0.8900\n",
      "Epoch 10/30\n",
      "100/100 [==============================] - 1s 10ms/step - loss: 0.0123 - acc: 0.9960 - val_loss: 0.3619 - val_acc: 0.8950\n",
      "Epoch 11/30\n",
      "100/100 [==============================] - 1s 10ms/step - loss: 0.0065 - acc: 0.9990 - val_loss: 0.3824 - val_acc: 0.8950\n",
      "Epoch 12/30\n",
      "100/100 [==============================] - 1s 10ms/step - loss: 0.0094 - acc: 0.9980 - val_loss: 0.3519 - val_acc: 0.9050\n",
      "Epoch 13/30\n",
      "100/100 [==============================] - 1s 10ms/step - loss: 0.0149 - acc: 0.9940 - val_loss: 0.4112 - val_acc: 0.8950\n",
      "Epoch 14/30\n",
      "100/100 [==============================] - 1s 10ms/step - loss: 0.0176 - acc: 0.9960 - val_loss: 0.5582 - val_acc: 0.8900\n",
      "Epoch 15/30\n",
      "100/100 [==============================] - 1s 11ms/step - loss: 0.0113 - acc: 0.9950 - val_loss: 0.3640 - val_acc: 0.8950\n",
      "Epoch 16/30\n",
      "100/100 [==============================] - 1s 10ms/step - loss: 0.0151 - acc: 0.9940 - val_loss: 0.4407 - val_acc: 0.9000\n",
      "Epoch 17/30\n",
      "100/100 [==============================] - 1s 10ms/step - loss: 0.0172 - acc: 0.9920 - val_loss: 0.4350 - val_acc: 0.9100\n",
      "Epoch 18/30\n",
      "100/100 [==============================] - 1s 10ms/step - loss: 0.0225 - acc: 0.9940 - val_loss: 0.3911 - val_acc: 0.9200\n",
      "Epoch 19/30\n",
      "100/100 [==============================] - 1s 10ms/step - loss: 0.0169 - acc: 0.9950 - val_loss: 0.3029 - val_acc: 0.9250\n",
      "Epoch 20/30\n",
      "100/100 [==============================] - 1s 10ms/step - loss: 0.0080 - acc: 0.9970 - val_loss: 0.3193 - val_acc: 0.9300\n",
      "Epoch 21/30\n",
      "100/100 [==============================] - 1s 10ms/step - loss: 0.0150 - acc: 0.9950 - val_loss: 0.3683 - val_acc: 0.9250\n",
      "Epoch 22/30\n",
      "100/100 [==============================] - 1s 10ms/step - loss: 0.0200 - acc: 0.9930 - val_loss: 0.3154 - val_acc: 0.9300\n",
      "Epoch 23/30\n",
      "100/100 [==============================] - 1s 10ms/step - loss: 0.0146 - acc: 0.9940 - val_loss: 0.3613 - val_acc: 0.9100\n",
      "Epoch 24/30\n",
      "100/100 [==============================] - 1s 10ms/step - loss: 0.0104 - acc: 0.9960 - val_loss: 0.4486 - val_acc: 0.9100\n",
      "Epoch 25/30\n",
      "100/100 [==============================] - 1s 10ms/step - loss: 0.0069 - acc: 0.9990 - val_loss: 0.4380 - val_acc: 0.9050\n",
      "Epoch 26/30\n",
      "100/100 [==============================] - 1s 10ms/step - loss: 0.0298 - acc: 0.9920 - val_loss: 0.3880 - val_acc: 0.9200\n",
      "Epoch 27/30\n",
      "100/100 [==============================] - 1s 10ms/step - loss: 0.0095 - acc: 0.9970 - val_loss: 0.3616 - val_acc: 0.9150\n",
      "Epoch 28/30\n",
      "100/100 [==============================] - 1s 10ms/step - loss: 0.0084 - acc: 0.9990 - val_loss: 0.4193 - val_acc: 0.9150\n",
      "Epoch 29/30\n",
      "100/100 [==============================] - 1s 10ms/step - loss: 0.0055 - acc: 0.9980 - val_loss: 0.3681 - val_acc: 0.9150\n",
      "Epoch 30/30\n",
      "100/100 [==============================] - 1s 10ms/step - loss: 0.0057 - acc: 1.0000 - val_loss: 0.4150 - val_acc: 0.8950\n"
     ]
    }
   ],
   "source": [
    "quantum_history = quantum_model.fit(Q_train_images, Y_train,\n",
    "                    validation_data = (Q_test_images, Y_test),\n",
    "                    batch_size = BATCH_SIZE,\n",
    "                    epochs = EPOCH,\n",
    "                    verbose = 1,\n",
    "                    callbacks = [TBCallback, quantum_cm_callback])"
   ]
  },
  {
   "cell_type": "markdown",
   "metadata": {
    "hidden": true
   },
   "source": [
    "Fitting classical model"
   ]
  },
  {
   "cell_type": "code",
   "execution_count": 48,
   "metadata": {
    "ExecuteTime": {
     "end_time": "2020-12-26T19:57:30.349912Z",
     "start_time": "2020-12-26T19:56:55.070906Z"
    },
    "hidden": true
   },
   "outputs": [
    {
     "name": "stdout",
     "output_type": "stream",
     "text": [
      "Epoch 1/30\n",
      "  1/100 [..............................] - ETA: 0s - loss: 2.9345e-04 - acc: 1.0000WARNING:tensorflow:Callbacks method `on_train_batch_begin` is slow compared to the batch time (batch time: 0.0090s vs `on_train_batch_begin` time: 0.0189s). Check your callbacks.\n",
      "100/100 [==============================] - 2s 17ms/step - loss: 0.0090 - acc: 0.9980 - val_loss: 0.0991 - val_acc: 0.9650\n",
      "Epoch 2/30\n",
      "100/100 [==============================] - 1s 11ms/step - loss: 0.0099 - acc: 0.9960 - val_loss: 0.0695 - val_acc: 0.9600\n",
      "Epoch 3/30\n",
      "100/100 [==============================] - 1s 11ms/step - loss: 0.0047 - acc: 1.0000 - val_loss: 0.0725 - val_acc: 0.9600\n",
      "Epoch 4/30\n",
      "100/100 [==============================] - 1s 12ms/step - loss: 0.0142 - acc: 0.9960 - val_loss: 0.0837 - val_acc: 0.9600\n",
      "Epoch 5/30\n",
      "100/100 [==============================] - 1s 11ms/step - loss: 0.0120 - acc: 0.9970 - val_loss: 0.1055 - val_acc: 0.9600\n",
      "Epoch 6/30\n",
      "100/100 [==============================] - 1s 11ms/step - loss: 0.0108 - acc: 0.9970 - val_loss: 0.0867 - val_acc: 0.9600\n",
      "Epoch 7/30\n",
      "100/100 [==============================] - 1s 11ms/step - loss: 0.0086 - acc: 0.9980 - val_loss: 0.1075 - val_acc: 0.9500\n",
      "Epoch 8/30\n",
      "100/100 [==============================] - 1s 11ms/step - loss: 0.0069 - acc: 0.9990 - val_loss: 0.0752 - val_acc: 0.9700\n",
      "Epoch 9/30\n",
      "100/100 [==============================] - 1s 11ms/step - loss: 0.0034 - acc: 1.0000 - val_loss: 0.0965 - val_acc: 0.9650\n",
      "Epoch 10/30\n",
      "100/100 [==============================] - 1s 11ms/step - loss: 0.0018 - acc: 1.0000 - val_loss: 0.1002 - val_acc: 0.9600\n",
      "Epoch 11/30\n",
      "100/100 [==============================] - 1s 11ms/step - loss: 0.0026 - acc: 0.9990 - val_loss: 0.1023 - val_acc: 0.9600\n",
      "Epoch 12/30\n",
      "100/100 [==============================] - 1s 11ms/step - loss: 0.0023 - acc: 1.0000 - val_loss: 0.0789 - val_acc: 0.9650\n",
      "Epoch 13/30\n",
      "100/100 [==============================] - 1s 11ms/step - loss: 0.0064 - acc: 0.9980 - val_loss: 0.0868 - val_acc: 0.9650\n",
      "Epoch 14/30\n",
      "100/100 [==============================] - 1s 13ms/step - loss: 0.0025 - acc: 1.0000 - val_loss: 0.0924 - val_acc: 0.9550\n",
      "Epoch 15/30\n",
      "100/100 [==============================] - 1s 11ms/step - loss: 0.0109 - acc: 0.9970 - val_loss: 0.1369 - val_acc: 0.9600\n",
      "Epoch 16/30\n",
      "100/100 [==============================] - 1s 11ms/step - loss: 0.0074 - acc: 0.9990 - val_loss: 0.0577 - val_acc: 0.9800\n",
      "Epoch 17/30\n",
      "100/100 [==============================] - 1s 12ms/step - loss: 0.0117 - acc: 0.9940 - val_loss: 0.0528 - val_acc: 0.9850\n",
      "Epoch 18/30\n",
      "100/100 [==============================] - 1s 13ms/step - loss: 0.0161 - acc: 0.9970 - val_loss: 0.0934 - val_acc: 0.9600\n",
      "Epoch 19/30\n",
      "100/100 [==============================] - 1s 11ms/step - loss: 0.0088 - acc: 0.9980 - val_loss: 0.0784 - val_acc: 0.9700\n",
      "Epoch 20/30\n",
      "100/100 [==============================] - 1s 11ms/step - loss: 0.0075 - acc: 0.9990 - val_loss: 0.0914 - val_acc: 0.9650\n",
      "Epoch 21/30\n",
      "100/100 [==============================] - 1s 11ms/step - loss: 0.0119 - acc: 0.9960 - val_loss: 0.0957 - val_acc: 0.9600\n",
      "Epoch 22/30\n",
      "100/100 [==============================] - 1s 11ms/step - loss: 0.0125 - acc: 0.9970 - val_loss: 0.1272 - val_acc: 0.9550\n",
      "Epoch 23/30\n",
      "100/100 [==============================] - 1s 11ms/step - loss: 0.0159 - acc: 0.9960 - val_loss: 0.0485 - val_acc: 0.9800\n",
      "Epoch 24/30\n",
      "100/100 [==============================] - 1s 11ms/step - loss: 0.0073 - acc: 0.9990 - val_loss: 0.0605 - val_acc: 0.9750\n",
      "Epoch 25/30\n",
      "100/100 [==============================] - 1s 11ms/step - loss: 0.0117 - acc: 0.9980 - val_loss: 0.0630 - val_acc: 0.9700\n",
      "Epoch 26/30\n",
      "100/100 [==============================] - 1s 11ms/step - loss: 0.0095 - acc: 0.9960 - val_loss: 0.0750 - val_acc: 0.9700\n",
      "Epoch 27/30\n",
      "100/100 [==============================] - 1s 11ms/step - loss: 0.0181 - acc: 0.9930 - val_loss: 0.1174 - val_acc: 0.9650\n",
      "Epoch 28/30\n",
      "100/100 [==============================] - 1s 11ms/step - loss: 0.0299 - acc: 0.9910 - val_loss: 0.0804 - val_acc: 0.9750\n",
      "Epoch 29/30\n",
      "100/100 [==============================] - 1s 11ms/step - loss: 0.0204 - acc: 0.9900 - val_loss: 0.0716 - val_acc: 0.9700\n",
      "Epoch 30/30\n",
      "100/100 [==============================] - 1s 13ms/step - loss: 0.0112 - acc: 0.9960 - val_loss: 0.0743 - val_acc: 0.9650\n"
     ]
    }
   ],
   "source": [
    "classical_history = classical_model.fit(X_train, Y_train,\n",
    "                    validation_data = (X_test, Y_test),\n",
    "                    batch_size = BATCH_SIZE,\n",
    "                    epochs = EPOCH,\n",
    "                    verbose = 1,\n",
    "                    callbacks = [CTBCallback, classical_cm_callback])"
   ]
  },
  {
   "cell_type": "code",
   "execution_count": 49,
   "metadata": {
    "ExecuteTime": {
     "end_time": "2020-12-26T19:57:46.777852Z",
     "start_time": "2020-12-26T19:57:46.524529Z"
    },
    "hidden": true,
    "scrolled": true
   },
   "outputs": [
    {
     "data": {
      "image/png": "[encoded data removed]",
      "text/plain": [
       "<Figure size 864x432 with 2 Axes>"
      ]
     },
     "metadata": {},
     "output_type": "display_data"
    }
   ],
   "source": [
    "plt.style.use(\"seaborn\")\n",
    "fig, (ax1, ax2) = plt.subplots(1, 2, figsize=(12, 6))\n",
    "\n",
    "ax1.plot(quantum_history.history[\"val_acc\"], color = 'r', marker = 'd', label=\"With quantum process\")\n",
    "ax1.plot(classical_history.history[\"val_acc\"], color = 'b', marker = '*', markersize = 10, label=\"Without quantum process\")\n",
    "ax1.set_ylabel(\"Accuracy\")\n",
    "ax1.set_ylim([0, 1])\n",
    "ax1.set_xlabel(\"Epoch\")\n",
    "ax1.legend()\n",
    "\n",
    "ax2.plot(quantum_history.history[\"val_loss\"], color = 'r', marker = 'd', label=\"With quantum layer\")\n",
    "ax2.plot(classical_history.history[\"val_loss\"], color = 'b', marker = '*', markersize = 10, label=\"Without quantum layer\")\n",
    "ax2.set_ylabel(\"Loss\")\n",
    "ax2.set_ylim(top=2.5)\n",
    "ax2.set_xlabel(\"Epoch\")\n",
    "ax2.legend()\n",
    "plt.tight_layout()\n",
    "plt.show()"
   ]
  },
  {
   "cell_type": "code",
   "execution_count": null,
   "metadata": {
    "hidden": true
   },
   "outputs": [],
   "source": []
  }
 ],
 "metadata": {
  "kernelspec": {
   "display_name": "Python 3",
   "language": "python",
   "name": "python3"
  },
  "language_info": {
   "codemirror_mode": {
    "name": "ipython",
    "version": 3
   },
   "file_extension": ".py",
   "mimetype": "text/x-python",
   "name": "python",
   "nbconvert_exporter": "python",
   "pygments_lexer": "ipython3",
   "version": "3.7.4"
  }
 },
 "nbformat": 4,
 "nbformat_minor": 2
}
