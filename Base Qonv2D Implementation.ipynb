{
 "cells": [
  {
   "cell_type": "markdown",
   "metadata": {
    "heading_collapsed": true
   },
   "source": [
    "# Comments"
   ]
  },
  {
   "cell_type": "markdown",
   "metadata": {
    "hidden": true
   },
   "source": [
    "Base implementation for the Qonv2D operation.\n",
    "A portion of an image of shape (2, 2) is Qonvolved with a (2, 2)\n",
    "Filter by means of a quantum circuit.\n",
    "\n",
    "For the quantum circuit part, 4 qubits are used. A U3 gate is applied to each\n",
    "qubit, with the form\n",
    "\n",
    "$qc.u3(FOCUS[0, 0] * FILTER[0, 0], FOCUS[0, 0] * FILTER[0, 1], FOCUS[0, 0] * FILTER[1, 0], q[0])$\n",
    "\n",
    "$qc.u3(FOCUS[0, 1] * FILTER[0, 0], FOCUS[0, 1] * FILTER[0, 1], FOCUS[0, 1] * FILTER[1, 0], q[1])$\n",
    "\n",
    "$qc.u3(FOCUS[1, 0] * FILTER[0, 0], FOCUS[1, 0] * FILTER[0, 1], FOCUS[1, 0] * FILTER[1, 0], q[2])$\n",
    "\n",
    "$qc.u3(FOCUS[1, 1] * FILTER[0, 0], FOCUS[1, 1] * FILTER[0, 1], FOCUS[1, 1] * FILTER[1, 0], q[3])$\n",
    "\n",
    "Hadamard gates are applied to each qubit before and after each u3 gate. A multicontrolled X gate\n",
    "is applied to an ancillary qubit with all the four previous qubits as control.\n",
    "\n",
    "The final element in the FILTER is used to modulate the ouput of the circuit, with the form\n",
    "$(\\frac{readouts.counts('1')}{shots}) * FILTER[1, 1]$\n",
    "\n",
    "Ideally, the element of each filter in FILTERS can be updated through an optimization algorithm\n",
    "to produced better results."
   ]
  },
  {
   "cell_type": "markdown",
   "metadata": {
    "heading_collapsed": true
   },
   "source": [
    "# Imports"
   ]
  },
  {
   "cell_type": "code",
   "execution_count": 1,
   "metadata": {
    "ExecuteTime": {
     "end_time": "2020-12-25T00:46:14.581082Z",
     "start_time": "2020-12-25T00:46:11.459435Z"
    },
    "hidden": true
   },
   "outputs": [],
   "source": [
    "from qiskit import ClassicalRegister, QuantumRegister, QuantumCircuit, Aer, execute, IBMQ\n",
    "from qiskit.tools.visualization import circuit_drawer\n",
    "from qiskit.tools.visualization import plot_histogram\n",
    "from qiskit.extensions.unitary import unitary\n",
    "from qiskit.tools.monitor import job_monitor\n",
    "from qiskit.compiler import transpile, assemble\n",
    "from qiskit.providers.aer import QasmSimulator\n",
    "S_simulator = Aer.backends(name = 'statevector_simulator')[0]\n",
    "M_simulator = Aer.backends(name = 'qasm_simulator')[0]\n",
    "\n",
    "backend = QasmSimulator(configuration = {'method' : 'density_matrix'})\n",
    "M_simulator = backend\n",
    "\n",
    "\n",
    "import numpy as np\n",
    "import matplotlib.pyplot as plt\n",
    "from scipy import signal\n",
    "from scipy import misc\n",
    "import cv2"
   ]
  },
  {
   "cell_type": "markdown",
   "metadata": {
    "heading_collapsed": true
   },
   "source": [
    "# Functions definitions"
   ]
  },
  {
   "cell_type": "code",
   "execution_count": 2,
   "metadata": {
    "ExecuteTime": {
     "end_time": "2020-12-25T00:46:14.586063Z",
     "start_time": "2020-12-25T00:46:14.582061Z"
    },
    "hidden": true
   },
   "outputs": [],
   "source": [
    "def draw(qc):\n",
    "    return circuit_drawer(qc, scale = 1, cregbundle  = False, output = 'mpl', fold = 24, initial_state = True)\n",
    "def hist(readout):\n",
    "    return plot_histogram(readout)"
   ]
  },
  {
   "cell_type": "code",
   "execution_count": 3,
   "metadata": {
    "ExecuteTime": {
     "end_time": "2020-12-25T00:46:14.616955Z",
     "start_time": "2020-12-25T00:46:14.588032Z"
    },
    "hidden": true
   },
   "outputs": [],
   "source": [
    "def convolution(FOCUS, FILTER, shots = 8192):\n",
    "    '''\n",
    "    FOCUS = [[F00, F01],\n",
    "             [F10, F11]]\n",
    "    FILTER = [[FI00, FI01],\n",
    "              [FI10, FI11]]\n",
    "    '''\n",
    "    q = QuantumRegister(4, name = 'q_r')\n",
    "    a = QuantumRegister(1, name = 'a_r')\n",
    "    c = ClassicalRegister(1, name = 'c_r')\n",
    "    qc = QuantumCircuit(q, a, c, name = 'q_circ')\n",
    "\n",
    "    qc.h(q)\n",
    "\n",
    "    qc.u3(FOCUS[0, 0] * FILTER[0, 0], FOCUS[0, 0] * FILTER[0, 1], FOCUS[0, 0] * FILTER[1, 0], q[0])\n",
    "\n",
    "    qc.u3(FOCUS[0, 1] * FILTER[0, 0], FOCUS[0, 1] * FILTER[0, 1], FOCUS[0, 1] * FILTER[1, 0], q[1])\n",
    "\n",
    "    qc.u3(FOCUS[1, 0] * FILTER[0, 0], FOCUS[1, 0] * FILTER[0, 1], FOCUS[1, 0] * FILTER[1, 0], q[2])\n",
    "\n",
    "    qc.u3(FOCUS[1, 1] * FILTER[0, 0], FOCUS[1, 1] * FILTER[0, 1], FOCUS[1, 1] * FILTER[1, 0], q[3])\n",
    "    \n",
    "    qc.h(q)\n",
    "\n",
    "    qc.mct(q, a, None, mode = 'noancilla')\n",
    "\n",
    "    qc.measure(a[0], c)\n",
    "\n",
    "    #transpiled_circuit = transpile(qc, M_simulator, optimization_level = 1)\n",
    "    #job = M_simulator.run(assemble(transpiled_circuit, shots = shots))\n",
    "    job = execute(qc, M_simulator, shots = shots, optimization_level = 1)\n",
    "    results = job.result()\n",
    "\n",
    "    readout = results.get_counts()\n",
    "    convolution = (readout.get('1', 0) / shots) * FILTER[1, 1]\n",
    "    return convolution, readout, qc"
   ]
  },
  {
   "cell_type": "code",
   "execution_count": 4,
   "metadata": {
    "ExecuteTime": {
     "end_time": "2020-12-25T00:46:14.626929Z",
     "start_time": "2020-12-25T00:46:14.618950Z"
    },
    "hidden": true
   },
   "outputs": [],
   "source": [
    "def Qonv2D(filters = 1, kernel_size = (2, 2), stride = (1, 1), image = None):\n",
    "    np.random.seed(465)\n",
    "    N_FILTERS = filters\n",
    "    KERNEL = kernel_size\n",
    "    STRIDE = stride\n",
    "    FILTERS = np.random.random(size = (N_FILTERS, KERNEL[0], KERNEL[1])) * np.pi\n",
    "    CONV_SHAPE = ((image.shape[0] - KERNEL[0]) // STRIDE[0] + 1, (image.shape[0] - KERNEL[0]) // STRIDE[1] + 1, N_FILTERS)\n",
    "    '''\n",
    "    CONV_SHAPE = ((image.shape[0] - KERNEL[0]) // STRIDE[0] + 1, (image.shape[0] - KERNEL[0]) // STRIDE[1] + 1)\n",
    "    CONV_OUTPUT = [] # shape = (Filters, CONV_IMAGE.shape)\n",
    "    for FILTER in FILTERS:\n",
    "        CONV_IMAGE = [] # shape = (((image.shape[0] - KERNEL[0]) // STRIDE[0] + 1, (image.shape[0] - KERNEL[0]) // STRIDE[1] + 1))\n",
    "        for row in range(0, image.shape[0] - KERNEL[0] + 1, STRIDE[0]):\n",
    "            for col in range(0, image.shape[1] - KERNEL[1] + 1, STRIDE[1]):\n",
    "                focus = image[row : row + KERNEL[0], col : col + KERNEL[1]]\n",
    "                convol = convolution(focus, FILTER, shots = 100)\n",
    "                CONV_IMAGE.append(convol[0])\n",
    "        CONV_OUTPUT.append(np.array(CONV_IMAGE).reshape(CONV_SHAPE))'''\n",
    "    CONV_IMAGE = [[] for _ in range(N_FILTERS)] # shape = (((image.shape[0] - KERNEL[0]) // STRIDE + 1, (image.shape[0] - KERNEL[0]) // STRIDE + 1))\n",
    "    for row in range(0, image.shape[0] - KERNEL[0] + 1, STRIDE[0]):\n",
    "        for col in range(0, image.shape[1] - KERNEL[1] + 1, STRIDE[1]):\n",
    "            for index, FILTER in enumerate(FILTERS):\n",
    "                focus = image[row : row + KERNEL[0], col : col + KERNEL[1]]\n",
    "                convol = convolution(focus, FILTER, shots = 100)\n",
    "                CONV_IMAGE[index].append(convol[0])\n",
    "    CONV_OUTPUT = np.stack(CONV_IMAGE, axis = -1)\n",
    "    CONV_OUTPUT = CONV_OUTPUT.reshape(CONV_SHAPE)\n",
    "    return CONV_OUTPUT"
   ]
  },
  {
   "cell_type": "code",
   "execution_count": 5,
   "metadata": {
    "ExecuteTime": {
     "end_time": "2020-12-25T00:46:14.636902Z",
     "start_time": "2020-12-25T00:46:14.627934Z"
    },
    "hidden": true
   },
   "outputs": [],
   "source": [
    "def qonv2D(FILTERS = None, kernel_size = (2, 2), stride = (1, 1), image = None):\n",
    "    KERNEL = kernel_size\n",
    "    STRIDE = stride\n",
    "    N_FILTERS = FILTERS.shape[0]\n",
    "    CONV_SHAPE = ((image.shape[0] - KERNEL[0]) // STRIDE[0] + 1, (image.shape[0] - KERNEL[0]) // STRIDE[1] + 1, N_FILTERS)\n",
    "    \n",
    "    CONV_IMAGE = [[] for _ in range(N_FILTERS)]\n",
    "    for row in range(0, image.shape[0] - KERNEL[0] + 1, STRIDE[0]):\n",
    "        for col in range(0, image.shape[1] - KERNEL[1] + 1, STRIDE[1]):\n",
    "            for index, FILTER in enumerate(FILTERS):\n",
    "                focus = image[row : row + KERNEL[0], col : col + KERNEL[1]]\n",
    "                convol = convolution(focus, FILTER, shots = 8192)\n",
    "                CONV_IMAGE[index].append(convol[0])\n",
    "    CONV_OUTPUT = np.stack(CONV_IMAGE, axis = -1)\n",
    "    CONV_OUTPUT = CONV_OUTPUT.reshape(CONV_SHAPE)\n",
    "    return CONV_OUTPUT"
   ]
  },
  {
   "cell_type": "markdown",
   "metadata": {
    "heading_collapsed": true
   },
   "source": [
    "# Testing"
   ]
  },
  {
   "cell_type": "code",
   "execution_count": 13,
   "metadata": {
    "ExecuteTime": {
     "end_time": "2020-12-25T00:47:57.593510Z",
     "start_time": "2020-12-25T00:47:57.167590Z"
    },
    "hidden": true
   },
   "outputs": [],
   "source": [
    "from tensorflow.keras.datasets import mnist\n",
    "# Loading MNIST\n",
    "((x_train, y_train), (x_test, y_test)) = mnist.load_data()\n",
    "\n",
    "# Adding a channel dimension and scaling\n",
    "#x_train = np.expand_dims(x_train, axis = -1)\n",
    "#x_test = np.expand_dims(x_test, axis = -1)\n",
    "x_train = x_train.astype(\"float32\") / 255.0\n",
    "x_test = x_test.astype(\"float32\") / 255.0"
   ]
  },
  {
   "cell_type": "code",
   "execution_count": 23,
   "metadata": {
    "ExecuteTime": {
     "end_time": "2020-12-25T00:50:25.056266Z",
     "start_time": "2020-12-25T00:50:25.049522Z"
    },
    "hidden": true
   },
   "outputs": [],
   "source": [
    "np.random.seed(564)\n",
    "image = np.random.random(size = (28, 28)) # Random 'image' generation\n",
    "#image = misc.ascent() # Stock image\n",
    "# Number image from Semeion Handwritten Digits Dataset\n",
    "#image = np.array([0.0, 0.0, 0.0, 0.0, 0.0, 0.0, 1.0, 1.0, 1.0, 1.0, 1.0, 1.0, 1.0, 1.0, 0.0, 0.0, 0.0, 0.0, 0.0, 0.0, 0.0, 1.0, 1.0, 1.0, 1.0, 1.0, 1.0, 0.0, 1.0, 1.0, 0.0, 0.0, 0.0, 0.0, 0.0, 0.0, 1.0, 1.0, 1.0, 1.0, 1.0, 1.0, 0.0, 0.0, 0.0, 1.0, 1.0, 0.0, 0.0, 0.0, 0.0, 1.0, 1.0, 1.0, 1.0, 1.0, 0.0, 0.0, 0.0, 0.0, 1.0, 1.0, 1.0, 1.0, 0.0, 0.0, 0.0, 1.0, 1.0, 1.0, 1.0, 0.0, 1.0, 1.0, 1.0, 1.0, 1.0, 1.0, 1.0, 0.0, 0.0, 0.0, 0.0, 1.0, 1.0, 1.0, 0.0, 1.0, 1.0, 1.0, 1.0, 1.0, 0.0, 1.0, 1.0, 0.0, 0.0, 0.0, 1.0, 1.0, 1.0, 1.0, 1.0, 1.0, 1.0, 1.0, 0.0, 0.0, 0.0, 1.0, 1.0, 0.0, 0.0, 0.0, 1.0, 1.0, 1.0, 1.0, 1.0, 1.0, 0.0, 0.0, 0.0, 0.0, 1.0, 1.0, 0.0, 0.0, 0.0, 1.0, 1.0, 1.0, 1.0, 1.0, 1.0, 0.0, 0.0, 0.0, 0.0, 0.0, 1.0, 1.0, 0.0, 0.0, 0.0, 1.0, 1.0, 1.0, 1.0, 0.0, 0.0, 0.0, 0.0, 0.0, 0.0, 0.0, 1.0, 1.0, 0.0, 0.0, 0.0, 1.0, 1.0, 1.0, 0.0, 0.0, 0.0, 0.0, 0.0, 0.0, 1.0, 1.0, 1.0, 0.0, 0.0, 0.0, 1.0, 1.0, 1.0, 0.0, 0.0, 0.0, 0.0, 0.0, 0.0, 0.0, 1.0, 1.0, 0.0, 0.0, 0.0, 0.0, 1.0, 1.0, 1.0, 1.0, 0.0, 0.0, 0.0, 0.0, 1.0, 1.0, 1.0, 1.0, 0.0, 0.0, 0.0, 0.0, 1.0, 1.0, 1.0, 1.0, 0.0, 0.0, 0.0, 1.0, 1.0, 1.0, 0.0, 0.0, 0.0, 0.0, 0.0, 0.0, 1.0, 0.0, 1.0, 1.0, 1.0, 1.0, 1.0, 1.0, 1.0, 0.0, 0.0, 0.0, 0.0, 0.0, 0.0, 0.0, 0.0, 0.0, 0.0, 1.0, 1.0, 1.0, 1.0, 0.0, 0.0, 0.0, 0.0, 0.0, 0.0, 0.0, 0.0, 0.0]).reshape(16, 16)\n",
    "image = x_train[0] # MNIST Sample"
   ]
  },
  {
   "cell_type": "code",
   "execution_count": 24,
   "metadata": {
    "ExecuteTime": {
     "end_time": "2020-12-25T00:50:33.208733Z",
     "start_time": "2020-12-25T00:50:33.110993Z"
    },
    "hidden": true
   },
   "outputs": [
    {
     "data": {
      "image/png": "[encoded data removed]",
      "text/plain": [
       "<Figure size 432x288 with 1 Axes>"
      ]
     },
     "metadata": {
      "needs_background": "light"
     },
     "output_type": "display_data"
    }
   ],
   "source": [
    "plt.imshow(image, cmap = 'gray')\n",
    "plt.show()"
   ]
  },
  {
   "cell_type": "code",
   "execution_count": 25,
   "metadata": {
    "ExecuteTime": {
     "end_time": "2020-12-25T00:50:34.862163Z",
     "start_time": "2020-12-25T00:50:34.855575Z"
    },
    "hidden": true
   },
   "outputs": [],
   "source": [
    "# Creating random filters\n",
    "np.random.seed(1918)\n",
    "FILTERS = np.random.random(size = (4, 2, 2)) * np.pi"
   ]
  },
  {
   "cell_type": "code",
   "execution_count": 26,
   "metadata": {
    "ExecuteTime": {
     "end_time": "2020-12-25T00:51:17.028322Z",
     "start_time": "2020-12-25T00:50:38.800916Z"
    },
    "hidden": true
   },
   "outputs": [],
   "source": [
    "# Executing convolutions\n",
    "CONV_OUTPUT = qonv2D(FILTERS, (2, 2), (1, 1), image)"
   ]
  },
  {
   "cell_type": "code",
   "execution_count": 27,
   "metadata": {
    "ExecuteTime": {
     "end_time": "2020-12-25T00:52:47.275838Z",
     "start_time": "2020-12-25T00:52:47.270851Z"
    },
    "hidden": true
   },
   "outputs": [
    {
     "data": {
      "text/plain": [
       "(27, 27, 4)"
      ]
     },
     "execution_count": 27,
     "metadata": {},
     "output_type": "execute_result"
    }
   ],
   "source": [
    "# Convolution output shape\n",
    "CONV_OUTPUT.shape"
   ]
  },
  {
   "cell_type": "code",
   "execution_count": 28,
   "metadata": {
    "ExecuteTime": {
     "end_time": "2020-12-25T00:52:49.665925Z",
     "start_time": "2020-12-25T00:52:49.191206Z"
    },
    "hidden": true
   },
   "outputs": [
    {
     "data": {
      "image/png": "[encoded data removed]",
      "text/plain": [
       "<Figure size 720x864 with 4 Axes>"
      ]
     },
     "metadata": {
      "needs_background": "light"
     },
     "output_type": "display_data"
    }
   ],
   "source": [
    "h, w = 10, 10        # for raster image\n",
    "nrows, ncols = 2, 2  # array of sub-plots\n",
    "figsize = [10, 12]     # figure size, inches\n",
    "\n",
    "# prep (x,y) for extra plotting on selected sub-plots\n",
    "\n",
    "# create figure (fig), and array of axes (ax)\n",
    "fig, ax = plt.subplots(nrows = nrows, ncols = ncols, figsize = figsize)\n",
    "\n",
    "# plot simple raster image on each sub-plot\n",
    "for i, axi in enumerate(ax.flat):\n",
    "    # i runs from 0 to (nrows*ncols-1)\n",
    "    # axi is equivalent with ax[rowid][colid]\n",
    "    axi.imshow(CONV_OUTPUT[:, :, i], cmap = 'gray')\n",
    "    # get indices of row/column\n",
    "    rowid = i // ncols\n",
    "    colid = i % ncols\n",
    "    # write row/col indices as axes' title for identification\n",
    "    axi.set_title(\"Row:\"+str(rowid)+\", Col:\"+str(colid))\n",
    "\n",
    "# one can access the axes by ax[row_id][col_id]\n",
    "# do additional plotting on ax[row_id][col_id] of your choice\n",
    "#ax[0][2].plot(xs, 3*ys, color='red', linewidth=3)\n",
    "#ax[4][3].plot(ys**2, xs, color='green', linewidth=3)\n",
    "\n",
    "plt.tight_layout(True)\n",
    "plt.show()"
   ]
  },
  {
   "cell_type": "markdown",
   "metadata": {
    "heading_collapsed": true
   },
   "source": [
    "# Comparison"
   ]
  },
  {
   "cell_type": "code",
   "execution_count": 102,
   "metadata": {
    "ExecuteTime": {
     "end_time": "2020-12-25T00:26:11.458378Z",
     "start_time": "2020-12-25T00:26:11.351296Z"
    },
    "hidden": true
   },
   "outputs": [
    {
     "data": {
      "image/png": "[encoded data removed]",
      "text/plain": [
       "<Figure size 432x288 with 1 Axes>"
      ]
     },
     "metadata": {
      "needs_background": "light"
     },
     "output_type": "display_data"
    }
   ],
   "source": [
    "plt.imshow(np.array(CONV_OUTPUT[:, :, 0]), cmap = 'gray_r')\n",
    "plt.title(\"First Channel Qonvolution\")\n",
    "plt.show()"
   ]
  },
  {
   "cell_type": "code",
   "execution_count": 103,
   "metadata": {
    "ExecuteTime": {
     "end_time": "2020-12-25T00:26:51.774181Z",
     "start_time": "2020-12-25T00:26:51.745162Z"
    },
    "hidden": true
   },
   "outputs": [],
   "source": [
    "# Classical SciPy convolution on first FILTER\n",
    "ascent = misc.ascent()\n",
    "scharr = np.array([[ -3-3j, 0-10j,  +3 -3j], [-10+0j, 0+ 0j, +10 +0j], [ -3+3j, 0+10j,  +3 +3j]]) # Gx + j*Gy\n",
    "grad = signal.convolve2d(image, FILTERS[0], boundary='symm', mode='valid')\n",
    "#grad = signal.convolve2d(ascent, FILTERS[0], boundary='symm', mode='valid')\n",
    "#grad = signal.convolve2d(ascent, scharr, boundary='symm', mode='valid')"
   ]
  },
  {
   "cell_type": "code",
   "execution_count": 104,
   "metadata": {
    "ExecuteTime": {
     "end_time": "2020-12-25T00:26:52.708852Z",
     "start_time": "2020-12-25T00:26:52.609118Z"
    },
    "hidden": true
   },
   "outputs": [
    {
     "data": {
      "image/png": "[encoded data removed]",
      "text/plain": [
       "<Figure size 432x288 with 1 Axes>"
      ]
     },
     "metadata": {
      "needs_background": "light"
     },
     "output_type": "display_data"
    }
   ],
   "source": [
    "plt.imshow(np.absolute(grad), cmap='gray')\n",
    "plt.title('Convolution')\n",
    "plt.show()"
   ]
  }
 ],
 "metadata": {
  "kernelspec": {
   "display_name": "Python 3",
   "language": "python",
   "name": "python3"
  },
  "language_info": {
   "codemirror_mode": {
    "name": "ipython",
    "version": 3
   },
   "file_extension": ".py",
   "mimetype": "text/x-python",
   "name": "python",
   "nbconvert_exporter": "python",
   "pygments_lexer": "ipython3",
   "version": "3.7.4"
  }
 },
 "nbformat": 4,
 "nbformat_minor": 2
}
